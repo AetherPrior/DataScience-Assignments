{
  "nbformat": 4,
  "nbformat_minor": 0,
  "metadata": {
    "colab": {
      "name": "FoDS-A1.ipynb",
      "provenance": [],
      "collapsed_sections": [],
      "toc_visible": true
    },
    "kernelspec": {
      "name": "python3",
      "display_name": "Python 3"
    }
  },
  "cells": [
    {
      "cell_type": "markdown",
      "metadata": {
        "id": "1hOkGdWKXAIq"
      },
      "source": [
        "# FoDS - Assignment 1\n",
        "## Members:\n",
        "- Abhinav Sukumar Rao - 2018A7PS0172H  \n",
        "- Pratyush Banerjee   - 2018A7PS0312H  \n",
        "- Rohan Daniel        - 2018A7PS0584H  "
      ]
    },
    {
      "cell_type": "markdown",
      "metadata": {
        "id": "3nkpeUZnW5t6"
      },
      "source": [
        "## Import all packages required"
      ]
    },
    {
      "cell_type": "code",
      "metadata": {
        "id": "__wGj3-535N3"
      },
      "source": [
        "from scipy.special import gamma\n",
        "from scipy.stats import bernoulli\n",
        "import random\n",
        "import numpy as np\n",
        "import matplotlib.pyplot as plt\n",
        "from matplotlib import animation\n",
        "%matplotlib inline"
      ],
      "execution_count": null,
      "outputs": []
    },
    {
      "cell_type": "markdown",
      "metadata": {
        "id": "ElAC4avvRPzo"
      },
      "source": [
        "## Generate data"
      ]
    },
    {
      "cell_type": "code",
      "metadata": {
        "id": "S72CPRRp3_lC"
      },
      "source": [
        "%%capture\n",
        "data = np.array(bernoulli.rvs(size=160,p=0.1))\n",
        "fig = plt.figure()\n",
        "x = np.linspace(0,1,200)"
      ],
      "execution_count": null,
      "outputs": []
    },
    {
      "cell_type": "code",
      "metadata": {
        "id": "c_tQ4KrY4tMD",
        "colab": {
          "base_uri": "https://localhost:8080/"
        },
        "outputId": "ee8bfb5c-77f1-49cb-bc12-4dfa7d171681"
      },
      "source": [
        "print(data)\n",
        "print(np.count_nonzero(data)/len(data))"
      ],
      "execution_count": null,
      "outputs": [
        {
          "output_type": "stream",
          "text": [
            "[0 0 0 1 0 0 0 0 1 0 0 0 0 0 0 0 0 0 0 0 0 0 1 0 0 0 0 0 0 0 0 0 0 0 1 0 0\n",
            " 0 0 0 0 0 0 0 0 0 0 0 0 0 0 0 0 0 0 1 0 0 0 0 1 0 0 0 0 0 0 0 0 0 0 0 0 0\n",
            " 0 0 0 0 0 0 0 0 0 1 0 0 0 0 0 0 0 0 0 0 0 0 0 0 0 0 0 0 0 0 0 0 0 0 0 0 0\n",
            " 0 0 0 0 0 0 0 0 0 0 0 0 0 0 0 1 0 0 0 1 0 0 0 0 0 0 0 0 0 0 0 0 0 0 0 1 0\n",
            " 0 0 0 0 0 0 0 0 0 0 1 0]\n",
            "0.06875\n"
          ],
          "name": "stdout"
        }
      ]
    },
    {
      "cell_type": "code",
      "metadata": {
        "id": "ZZx3qnTfZs-c"
      },
      "source": [
        "%%capture\n",
        "fig = plt.figure()\n",
        "ax = plt.axes(xlim=(0,1),ylim=(0,20))\n",
        "line, = ax.plot([],[])\n",
        "text = ax.text(0.4,15,\"Hi\")\n",
        "def init():\n",
        "  line.set_data([],[])\n",
        "  return line,text"
      ],
      "execution_count": null,
      "outputs": []
    },
    {
      "cell_type": "markdown",
      "metadata": {
        "id": "3ElzJyzNeKim"
      },
      "source": [
        "## Step 1\n",
        "Take points one-by-one\n",
        "### Calculate beta distribution\n",
        "In order to prevent problems with calculating the beta distribution for large values of a and b using the `scipy.special.gamma` function mentioned in the assignment, we have derived recurrence relations in $a$ and $b$ for the coefficient in the beta distribution:  \n",
        "\n",
        "$\\beta(x,a,b) = \\frac{1}{B(a,b)} x^{a-1}(1-x)^{b-1}$    \n",
        "\n",
        "where,  \n",
        "\n",
        "$B(a,b) = \\frac{\\Gamma(a)\\Gamma(b)}{\\Gamma(a+b)}$  \n",
        "\n",
        "The recurrence relation(s) are as follows:  \n",
        "\n",
        "$\\beta(a,b) = \\frac{(a+b-1)}{(a-1)} \\beta(a-1,b)x$\n",
        "\n",
        " and,  \n",
        "\n",
        "$\\beta(a,b) = \\frac{(a+b-1)}{(b-1)} \\beta(a,b-1)(1-x)$\n",
        "\n",
        "While this is not necessary for the purpose of this assignment, we can use the following function for much larger number of iterations, when we sample one-by-one."
      ]
    },
    {
      "cell_type": "code",
      "metadata": {
        "id": "UY-FqaQ2d4Zv"
      },
      "source": [
        "##define a recurrence in gamma to prevent inf errors\n",
        "## Assumes that a,b are strictly increasing everytime beta is called\n",
        "def beta(x,a,b):\n",
        "  if (beta.B is None):\n",
        "    beta.B = 1/(gamma(a)*gamma(b)/(gamma(a+b)))\n",
        "    beta.B *= np.power(x,a-1)*np.power(1-x,b-1)\n",
        "    beta.a = a\n",
        "    beta.b = b\n",
        "  elif (a>beta.a):\n",
        "    beta.a = a\n",
        "    beta.B = (a+b-1)/(a-1) * beta.B * x\n",
        "  else:\n",
        "    beta.b = b\n",
        "    beta.B = (a+b-1)/(b-1) * beta.B * (1-x)\n",
        "  return beta.B\n",
        "beta.a = beta.b = -1\n",
        "beta.B = None\n",
        "\n"
      ],
      "execution_count": null,
      "outputs": []
    },
    {
      "cell_type": "code",
      "metadata": {
        "id": "QIq2LpRnTl9R",
        "colab": {
          "base_uri": "https://localhost:8080/",
          "height": 72
        },
        "outputId": "49dd3296-cc57-4de2-f555-8b8316809a58"
      },
      "source": [
        "'''\n",
        "def B(a,b):\n",
        "  res = 1\n",
        "  if (B.firstrun):\n",
        "    B.firstrun = False\n",
        "    B.a = a\n",
        "    B.b = b\n",
        "    while (a > 1):\n",
        "      res *= (a+b-1)/(a-1)\n",
        "      a-=1\n",
        "    ##B(a,b) = B(b,a)\n",
        "    while (b > 1):\n",
        "      res *= (a+b-1)/(b-1)\n",
        "      b-=1\n",
        "   #B(1,1) = 1/2\n",
        "    B.gamma *= res\n",
        "  else:\n",
        "    while (a > B.a):\n",
        "      res *= (a+b-1)/(a-1)\n",
        "      a-=1\n",
        "    while (b > B.b):\n",
        "      res *= (a+b-1)/(a-1)\n",
        "      b-=1\n",
        "    B.gamma*=res\n",
        "  return B.gamma\n",
        "B.a = B.b = 0\n",
        "B.gamma = 1/2\n",
        "B.firstrun = True\n",
        "'''"
      ],
      "execution_count": null,
      "outputs": [
        {
          "output_type": "execute_result",
          "data": {
            "application/vnd.google.colaboratory.intrinsic+json": {
              "type": "string"
            },
            "text/plain": [
              "'\\ndef B(a,b):\\n  res = 1\\n  if (B.firstrun):\\n    B.firstrun = False\\n    B.a = a\\n    B.b = b\\n    while (a > 1):\\n      res *= (a+b-1)/(a-1)\\n      a-=1\\n    ##B(a,b) = B(b,a)\\n    while (b > 1):\\n      res *= (a+b-1)/(b-1)\\n      b-=1\\n   #B(1,1) = 1/2\\n    B.gamma *= res\\n  else:\\n    while (a > B.a):\\n      res *= (a+b-1)/(a-1)\\n      a-=1\\n    while (b > B.b):\\n      res *= (a+b-1)/(a-1)\\n      b-=1\\n    B.gamma*=res\\n  return B.gamma\\nB.a = B.b = 0\\nB.gamma = 1/2\\nB.firstrun = True\\n'"
            ]
          },
          "metadata": {
            "tags": []
          },
          "execution_count": 6
        }
      ]
    },
    {
      "cell_type": "code",
      "metadata": {
        "id": "4HLJc2jUFPhG"
      },
      "source": [
        "#make an animator function for gif\n",
        "def an(i):\n",
        "  global line, data, text\n",
        "  sample = data[i]\n",
        "  an.n = an.n+1\n",
        "  an.m = an.m+sample\n",
        "  an.a = an.a+sample\n",
        "  an.b = an.b+(1-sample)\n",
        "  an.mu = an.a/(an.a+an.b)\n",
        "  y = beta(x,an.a,an.b)\n",
        "  #print(type(x),type(y))\n",
        "  line.set_data(x,y)\n",
        "  text.set_text(f\"mean: {an.mu:.3f}\\niteration: {an.n}\")\n",
        "  #print(type(ax),type(line))\n",
        "  return line,text\n",
        "  #print(mu,a,b)\n",
        "an.a = 2\n",
        "an.b = 3\n",
        "an.m = 0\n",
        "an.n = 0\n",
        "an.mu = 0.4"
      ],
      "execution_count": null,
      "outputs": []
    },
    {
      "cell_type": "code",
      "metadata": {
        "id": "hKhZ04GVxpgA"
      },
      "source": [
        "#reset static vars\n",
        "def reset():\n",
        "  an.a = 2\n",
        "  an.b = 3\n",
        "  an.m = 0\n",
        "  an.n = 0\n",
        "  an.mu = 0.4\n",
        "  beta.a = beta.b = -1\n",
        "  beta.B = None\n",
        "  '''\n",
        "  B.a = B.b = 0\n",
        "  B.gamma = 1/2\n",
        "  B.firstrun = True\n",
        "  '''\n",
        "reset()"
      ],
      "execution_count": null,
      "outputs": []
    },
    {
      "cell_type": "code",
      "metadata": {
        "id": "tH4TMqbJ-a-I"
      },
      "source": [
        "##gif saver\n",
        "%%capture\n",
        "!apt install imagemagick"
      ],
      "execution_count": null,
      "outputs": []
    },
    {
      "cell_type": "code",
      "metadata": {
        "id": "8UU1iDo_QD2T",
        "colab": {
          "base_uri": "https://localhost:8080/"
        },
        "outputId": "e3f581ca-371b-48e5-f792-4c0d7208ed23"
      },
      "source": [
        "from google.colab import drive\n",
        "drive.mount('/content/drive')"
      ],
      "execution_count": null,
      "outputs": [
        {
          "output_type": "stream",
          "text": [
            "Go to this URL in a browser: https://accounts.google.com/o/oauth2/auth?client_id=947318989803-6bn6qk8qdgf4n4g3pfee6491hc0brc4i.apps.googleusercontent.com&redirect_uri=urn%3aietf%3awg%3aoauth%3a2.0%3aoob&scope=email%20https%3a%2f%2fwww.googleapis.com%2fauth%2fdocs.test%20https%3a%2f%2fwww.googleapis.com%2fauth%2fdrive%20https%3a%2f%2fwww.googleapis.com%2fauth%2fdrive.photos.readonly%20https%3a%2f%2fwww.googleapis.com%2fauth%2fpeopleapi.readonly&response_type=code\n",
            "\n",
            "Enter your authorization code:\n",
            "4/5wGI5RDLXZ9EeMDSFCk0Dq2kDoJvGSUGMeR-M8aogjciaXjhteuIOQ0\n"
          ],
          "name": "stdout"
        }
      ]
    },
    {
      "cell_type": "code",
      "metadata": {
        "id": "W0gmr4VL5mLx"
      },
      "source": [
        "#Write a gif\n",
        "anim = animation.FuncAnimation(fig, an, init_func=init,\n",
        "                               frames=160, interval=20, blit=True)\n",
        "anim.save('/content/drive/My Drive/FODS/OneByOne.gif',writer='imagemagick')\n",
        "print(f\"160 iterations: mean: {an.mu}\")"
      ],
      "execution_count": null,
      "outputs": []
    },
    {
      "cell_type": "markdown",
      "metadata": {
        "id": "FGVXMhKIPSrq"
      },
      "source": [
        "## Step 2\n",
        "Take all the points at once!"
      ]
    },
    {
      "cell_type": "code",
      "metadata": {
        "id": "t7czr7-HWm5S"
      },
      "source": [
        "def animate_func_2():\n",
        "  m = np.count_nonzero(data)\n",
        "  a = 2.0\n",
        "  b = 3\n",
        "  mu = a/(a+b)\n",
        "  n = 160\n",
        "  y = gamma(a+b)/(gamma(a)*gamma(b))\n",
        "  y*=np.power(x,a-1)*np.power(1-x,b-1)\n",
        "  line.set_data(x,y)\n",
        "  text.set_text(f\"mean: {mu:.3f}\")\n",
        "  ax.figure.savefig('/content/drive/My Drive/FODS/AllAtOncePrior.jpg')\n",
        "  a = a+m\n",
        "  b = b+(n-m)\n",
        "  mu = a/(a+b)\n",
        "  y = gamma(a+b)/(gamma(a)*gamma(b))\n",
        "  y*=np.power(x,a-1)*np.power(1-x,b-1)\n",
        "  line.set_data(x,y)\n",
        "  text.set_text(f\"mean: {mu:.3f}\")\n",
        "  ax.figure.savefig('/content/drive/My Drive/FODS/AllAtOncePosterior.jpg')\n",
        "  print(f\"A single iteration of all 160 points: {mu}\")\n",
        "  return mu"
      ],
      "execution_count": null,
      "outputs": []
    },
    {
      "cell_type": "code",
      "metadata": {
        "id": "DPkofhUrLXh4"
      },
      "source": [
        "mean_val = animate_func_2()\n",
        "print(f\"Comparing with previous value:{an.mu}\")\n",
        "print(f\"OneByOne = AllAtOnce: {an.mu == mean_val}\")"
      ],
      "execution_count": null,
      "outputs": []
    },
    {
      "cell_type": "markdown",
      "metadata": {
        "id": "Ae7OuoPUMaqq"
      },
      "source": [
        "## Result\n",
        "We see that the mean of the posterior distribution evaluates to the same result regardless of the method\n"
      ]
    }
  ]
}